{
 "cells": [
  {
   "cell_type": "code",
   "execution_count": 2,
   "metadata": {},
   "outputs": [
    {
     "name": "stdout",
     "output_type": "stream",
     "text": [
      "['chr1', 'chr2', 'chr3', 'chr4', 'chr5', 'chr6', 'chr7', 'chr8', 'chr9', 'chr10', 'chr11', 'chr12', 'chr13', 'chr14', 'chr15', 'chr16', 'chr17', 'chr18', 'chr19', 'chr20', 'chr21', 'chr22']\n"
     ]
    }
   ],
   "source": [
    "single_area_result_path_4 = r'/Users/ksg/gene_files/real/result/hg004/'\n",
    "single_area_result_path_3 = r'/Users/ksg/gene_files/real/result/hg003/'\n",
    "single_area_result_path_2 = r'/Users/ksg/gene_files/real/result/hg002/'\n",
    "\n",
    "save_path_3 = r'/Users/ksg/gene_files/real/hg003/my2/'\n",
    "save_path_4 = r'/Users/ksg/gene_files/real/hg004/my2/'\n",
    "save_path_2 = r'/Users/ksg/gene_files/real/hg002/my2/'\n",
    "ch = ['chr'+str(i) for i in range(1,23)]\n",
    "print(ch)"
   ]
  },
  {
   "cell_type": "code",
   "execution_count": 3,
   "metadata": {},
   "outputs": [],
   "source": [
    "def get_single_area_result(single_area_result_path,save_path,chid):\n",
    "    k = 0\n",
    "    temp = []\n",
    "    open_file = open(single_area_result_path+chid+'.txt')\n",
    "    single_area_result_list = [[int(i.strip().split('\\t')[0]),int(i.strip().split('\\t')[1])] for i in open_file.readlines()]\n",
    "    open_file.close()\n",
    "    sorted_single_area_result_list = sorted(single_area_result_list, key = lambda x:x[0])\n",
    "\n",
    "    \n",
    "    for j1 in range(len(sorted_single_area_result_list)):\n",
    "        if sorted_single_area_result_list[j1][1] == 1:\n",
    "            temp.append([sorted_single_area_result_list[j1][0],sorted_single_area_result_list[j1][0]+99])\n",
    "            k = j1 + 1\n",
    "            break\n",
    "    for j2 in range(k,len(sorted_single_area_result_list)):\n",
    "        if sorted_single_area_result_list[j2][1] == 1:\n",
    "            if sorted_single_area_result_list[j2][0] <= temp[-1][1] + 1:\n",
    "                temp[-1][1] = sorted_single_area_result_list[j2][0] + 99\n",
    "            else:\n",
    "                temp.append([sorted_single_area_result_list[j2][0],sorted_single_area_result_list[j2][0]+99])\n",
    "    #return temp\n",
    "    open_save_file = open(save_path+chid+'.txt',\"w+\")\n",
    "    for j3 in temp:\n",
    "        open_save_file.write(str(j3[0])+\"\\t\"+str(j3[1])+\"\\t\"+str(j3[1]-j3[0]+1)+'\\n')\n",
    "    open_save_file.close()\n",
    "for chid in ch:\n",
    "    a = get_single_area_result(single_area_result_path_4,save_path_4,chid)\n",
    "    b = get_single_area_result(single_area_result_path_3,save_path_3,chid)\n",
    "    c = get_single_area_result(single_area_result_path_2,save_path_2,chid)"
   ]
  }
 ],
 "metadata": {
  "kernelspec": {
   "display_name": "Python 3",
   "language": "python",
   "name": "python3"
  },
  "language_info": {
   "codemirror_mode": {
    "name": "ipython",
    "version": 3
   },
   "file_extension": ".py",
   "mimetype": "text/x-python",
   "name": "python",
   "nbconvert_exporter": "python",
   "pygments_lexer": "ipython3",
   "version": "3.8.5"
  }
 },
 "nbformat": 4,
 "nbformat_minor": 4
}
