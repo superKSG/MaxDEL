{
 "cells": [
  {
   "cell_type": "code",
   "execution_count": 1,
   "metadata": {},
   "outputs": [],
   "source": [
    "import numpy as np"
   ]
  },
  {
   "cell_type": "code",
   "execution_count": 2,
   "metadata": {},
   "outputs": [],
   "source": [
    "single_area_result_path = r'/Users/ksg/cym/predict_res_Wgan/'\n",
    "save_path = r'/Users/ksg/cym/'\n",
    "#vcf_path = r'/Users/ksg/gene_files/hg002/vcf/all_length_只有PASS/'\n",
    "c_vcf_path_50_1k_0 = r'/Users/ksg/gene_files/sim/50-1k/vcf/0/'\n",
    "c_vcf_path_50_1k_1 = r'/Users/ksg/gene_files/sim/50-1k/vcf/1/'\n",
    "c_vcf_path_1k_5k_0 = r'/Users/ksg/gene_files/sim/1k-5k/vcf/0/'\n",
    "c_vcf_path_1k_5k_1 = r'/Users/ksg/gene_files/sim/1k-5k/vcf/1/'\n",
    "#vcf_path = r'/Users/ksg/gene_files/hg002/vcf/只有PASS/'\n",
    "\n",
    "\n",
    "z_vcf_path_50_1k = r'/Users/ksg/gene_files/sim/50-1k/vcf杂合/'\n",
    "z_vcf_path_1k_5k = r'/Users/ksg/gene_files/sim/1k-5k/vcf杂合/'"
   ]
  },
  {
   "cell_type": "code",
   "execution_count": 3,
   "metadata": {},
   "outputs": [],
   "source": [
    "nextsv_50_1k_c_0_path = r'/Users/ksg/gene_files/sim/50-1k/chunhe/nextsv/single_area/0/'\n",
    "nextsv_50_1k_c_1_path = r'/Users/ksg/gene_files/sim/50-1k/chunhe/nextsv/single_area/1/'\n",
    "\n",
    "picky_50_1k_c_0_path = r'/Users/ksg/gene_files/sim/50-1k/chunhe/picky/single_area/0/'\n",
    "picky_50_1k_c_1_path = r'/Users/ksg/gene_files/sim/50-1k/chunhe/picky/single_area/1/'\n",
    "\n",
    "svim_50_1k_c_0_path = r'/Users/ksg/gene_files/sim/50-1k/chunhe/svim/single_area1/0/'\n",
    "svim_50_1k_c_1_path = r'/Users/ksg/gene_files/sim/50-1k/chunhe/svim/single_area1/1/'\n",
    "\n",
    "sniffles_50_1k_c_0_path = r'/Users/ksg/gene_files/sim/50-1k/chunhe/sniffles/single_area/0/'\n",
    "sniffles_50_1k_c_1_path = r'/Users/ksg/gene_files/sim/50-1k/chunhe/sniffles/single_area/1/'\n",
    "\n",
    "my_50_1k_c_0_path = r'/Users/ksg/gene_files/sim/50-1k/my_tool/result_0/'\n",
    "my_50_1k_c_1_path = r'/Users/ksg/gene_files/sim/50-1k/my_tool/result_1/'\n",
    "#----------------------------------------------------------------------------------------------------\n",
    "nextsv_1k_5k_c_0_path = r'/Users/ksg/gene_files/sim/1k-5k/chunhe/nextsv/single_area/0/'\n",
    "nextsv_1k_5k_c_1_path = r'/Users/ksg/gene_files/sim/1k-5k/chunhe/nextsv/single_area/1/'\n",
    "\n",
    "picky_1k_5k_c_0_path = r'/Users/ksg/gene_files/sim/1k-5k/chunhe/picky/single_area/0/'\n",
    "picky_1k_5k_c_1_path = r'/Users/ksg/gene_files/sim/1k-5k/chunhe/picky/single_area/1/'\n",
    "\n",
    "svim_1k_5k_c_0_path = r'/Users/ksg/gene_files/sim/1k-5k/chunhe/svim/single_area1/0/'\n",
    "svim_1k_5k_c_1_path = r'/Users/ksg/gene_files/sim/1k-5k/chunhe/svim/single_area1/1/'\n",
    "\n",
    "sniffles_1k_5k_c_0_path = r'/Users/ksg/gene_files/sim/1k-5k/chunhe/sniffles/single_area/0/'\n",
    "sniffles_1k_5k_c_1_path = r'/Users/ksg/gene_files/sim/1k-5k/chunhe/sniffles/single_area/1/'\n",
    "\n",
    "my_1k_5k_c_0_path = r'/Users/ksg/gene_files/sim/1k-5k/my_tool/result_0/'\n",
    "my_1k_5k_c_1_path = r'/Users/ksg/gene_files/sim/1k-5k/my_tool/result_1/'"
   ]
  },
  {
   "cell_type": "code",
   "execution_count": 4,
   "metadata": {},
   "outputs": [],
   "source": [
    "nextsv_50_1k_z_path = r'/Users/ksg/gene_files/sim/50-1k/zahe/nextsv/single_area/'\n",
    "picky_50_1k_z_path = r'/Users/ksg/gene_files/sim/50-1k/zahe/picky/single_area/'\n",
    "svim_50_1k_z_path = r'/Users/ksg/gene_files/sim/50-1k/zahe/svim/single_area1/'\n",
    "sniffles_50_1k_z_path = r'/Users/ksg/gene_files/sim/50-1k/zahe/sniffles/single_area/'\n",
    "my_50_1k_z_path = r'/Users/ksg/gene_files/sim/50-1k/my_tool/result_merge/'\n",
    "\n",
    "nextsv_1k_5k_z_path = r'/Users/ksg/gene_files/sim/1k-5k/zahe/nextsv/single_area/'\n",
    "picky_1k_5k_z_path = r'/Users/ksg/gene_files/sim/1k-5k/zahe/picky/single_area/'\n",
    "svim_1k_5k_z_path = r'/Users/ksg/gene_files/sim/1k-5k/zahe/svim/single_area1/'\n",
    "sniffles_1k_5k_z_path = r'/Users/ksg/gene_files/sim/1k-5k/zahe/sniffles/single_area/'\n",
    "my_1k_5k_z_path = r'/Users/ksg/gene_files/sim/1k-5k/my_tool/result_merge/'"
   ]
  },
  {
   "cell_type": "code",
   "execution_count": 1,
   "metadata": {},
   "outputs": [
    {
     "name": "stdout",
     "output_type": "stream",
     "text": [
      "['chr1', 'chr2', 'chr3', 'chr4', 'chr5', 'chr6', 'chr7', 'chr8', 'chr9', 'chr10', 'chr11', 'chr12', 'chr13', 'chr14', 'chr15', 'chr16', 'chr17', 'chr18', 'chr19', 'chr20', 'chr21', 'chr22']\n"
     ]
    }
   ],
   "source": [
    "my_result_path = r'/Users/ksg/gene_files/hg002/predict_area/'\n",
    "ch = ['chr'+str(i) for i in range(1,23)]\n",
    "print(ch)"
   ]
  },
  {
   "cell_type": "code",
   "execution_count": 6,
   "metadata": {},
   "outputs": [],
   "source": [
    "def sort_and_merge_vcf(vcf_path,chid,min_length,max_length):\n",
    "    open_vcf = open(vcf_path+chid+'.txt')\n",
    "    vcf_list = [[int(i.strip().split('\\t')[1]),int(i.strip().split('\\t')[2])] for i in open_vcf.readlines() if (int(i.strip().split('\\t')[3]) > min_length and int(i.strip().split('\\t')[3]) < max_length)]\n",
    "    open_vcf.close()\n",
    "    sorted_vcf_list = sorted(vcf_list, key = lambda x:x[0])\n",
    "    final_vcf_list = [sorted_vcf_list[0]]\n",
    "    for j in range(1,len(sorted_vcf_list)):\n",
    "        if sorted_vcf_list[j][0] > final_vcf_list[-1][-1]:\n",
    "            final_vcf_list.append(sorted_vcf_list[j])\n",
    "        else:\n",
    "            final_vcf_list[-1][-1] = sorted_vcf_list[j][1]\n",
    "\n",
    "    return final_vcf_list"
   ]
  },
  {
   "cell_type": "code",
   "execution_count": 9,
   "metadata": {},
   "outputs": [],
   "source": [
    "def sort_and_merge_tools_result(tools_path,chid,min_length,max_length):\n",
    "    open_tools_result = open(tools_path+chid+'.txt')\n",
    "    tools_result_list = [[int(i.strip().split('\\t')[0]),int(i.strip().split('\\t')[1])] for i in open_tools_result.readlines() if int(i.strip().split('\\t')[2]) > min_length and int(i.strip().split('\\t')[2]) < max_length]\n",
    "    open_tools_result.close()\n",
    "    sorted_tools_result_list = sorted(tools_result_list, key = lambda x:x[0])\n",
    "    final_tools_result_list = [sorted_tools_result_list[0]]\n",
    "    for j in range(1,len(sorted_tools_result_list)):\n",
    "        if sorted_tools_result_list[j][0] > final_tools_result_list[-1][-1]:\n",
    "            final_tools_result_list.append(sorted_tools_result_list[j])\n",
    "        else:\n",
    "            final_tools_result_list[-1][-1] = sorted_tools_result_list[j][1]\n",
    "    return final_tools_result_list"
   ]
  },
  {
   "cell_type": "code",
   "execution_count": 10,
   "metadata": {},
   "outputs": [],
   "source": [
    "def compare_with_vcf_and_tools_result(vcf_path,tools_path,chid,min_length,max_length):\n",
    "\n",
    "    vcf_list = sort_and_merge_vcf(vcf_path,chid,min_length,max_length)\n",
    "\n",
    "    vcf_shape_like_zero_array = np.zeros((len(vcf_list),1))\n",
    "    \n",
    "    tools_result_list = sort_and_merge_tools_result(tools_path,chid,min_length,max_length)\n",
    "    tools_result_shape_like_zero_array = np.zeros((len(tools_result_list),1))\n",
    "    \n",
    "    vcf_array = np.hstack((np.array(vcf_list),vcf_shape_like_zero_array)).astype(int)\n",
    "    tools_result_array = np.hstack((np.array(tools_result_list),tools_result_shape_like_zero_array)).astype(int)\n",
    "    \n",
    "    tp,fp,fp,fn = 0,0,0,0\n",
    "    \n",
    "    for i in vcf_array:\n",
    "        for j in tools_result_array:\n",
    "            if ((j[1] < i[0]) or (j[0] > i[1])) == False:\n",
    "                i[2] += 1\n",
    "                j[2] += 1\n",
    "    \n",
    "    for i1 in vcf_array:\n",
    "        if i1[2] == 0:\n",
    "            fn += 1\n",
    "        else:\n",
    "            tp += 1\n",
    "    \n",
    "    for j1 in tools_result_array:\n",
    "        if j1[2] == 0:\n",
    "            fp += 1\n",
    "#         else:\n",
    "#             tp += 1\n",
    "       \n",
    "    return fn,fp,tp"
   ]
  },
  {
   "cell_type": "code",
   "execution_count": 70,
   "metadata": {},
   "outputs": [
    {
     "name": "stdout",
     "output_type": "stream",
     "text": [
      "tp: 2966\n",
      "fn: 40\n",
      "fp: 108\n",
      "2966,40,108\n",
      "recall: 0.9866932801064537\n",
      "precesion: 0.9648666232921275\n",
      "f1: 0.9756578947368421\n"
     ]
    }
   ],
   "source": [
    "fn,fp,tp = 0,0,0\n",
    "for chid in ch:\n",
    "    fn_temp,fp_temp,tp_temp = compare_with_vcf_and_tools_result(z_vcf_path_1k_5k,my_1k_5k_z_path,chid,50,10000)\n",
    "    fn += fn_temp\n",
    "    fp += fp_temp\n",
    "    tp += tp_temp\n",
    "    \n",
    "precesion = tp/(tp+fp)\n",
    "recall = tp/(tp+fn)\n",
    "f1 = 2*precesion*recall/(recall+precesion)\n",
    "print('tp: '+str(tp))\n",
    "print('fn: '+str(fn))\n",
    "print('fp: '+str(fp))\n",
    "print(str(tp)+','+str(fn)+','+str(fp))\n",
    "print('recall: '+str(recall)+'\\nprecesion: '+str(precesion)+'\\nf1: '+str(f1))"
   ]
  },
  {
   "cell_type": "code",
   "execution_count": 86,
   "metadata": {},
   "outputs": [
    {
     "name": "stdout",
     "output_type": "stream",
     "text": [
      "tp: 1743\n",
      "fn: 1263\n",
      "fp: 55\n",
      "1743,1263,55\n",
      "recall: 0.5798403193612774\n",
      "precesion: 0.9694104560622915\n",
      "f1: 0.7256452955870107\n"
     ]
    }
   ],
   "source": [
    "def dd(tp,fn,fp):\n",
    "#     tp = tp1+tp2\n",
    "#     fn = fn1+fn2\n",
    "#     fp = fp1+fp2\n",
    "    precesion = tp/(tp+fp)\n",
    "    recall = tp/(tp+fn)\n",
    "    f1 = 2*precesion*recall/(recall+precesion)\n",
    "    print('tp: '+str(tp))\n",
    "    print('fn: '+str(fn))\n",
    "    print('fp: '+str(fp))\n",
    "    print(str(tp)+','+str(fn)+','+str(fp))\n",
    "    print('recall: '+str(recall)+'\\nprecesion: '+str(precesion)+'\\nf1: '+str(f1))\n",
    "dfgh = dd(3006-1263,1263,55)"
   ]
  }
 ],
 "metadata": {
  "kernelspec": {
   "display_name": "Python 3",
   "language": "python",
   "name": "python3"
  },
  "language_info": {
   "codemirror_mode": {
    "name": "ipython",
    "version": 3
   },
   "file_extension": ".py",
   "mimetype": "text/x-python",
   "name": "python",
   "nbconvert_exporter": "python",
   "pygments_lexer": "ipython3",
   "version": "3.8.5"
  }
 },
 "nbformat": 4,
 "nbformat_minor": 4
}
