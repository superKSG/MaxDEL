{
 "cells": [
  {
   "cell_type": "code",
   "execution_count": 1,
   "metadata": {},
   "outputs": [
    {
     "name": "stdout",
     "output_type": "stream",
     "text": [
      "['chr1', 'chr2', 'chr3', 'chr4', 'chr5', 'chr6', 'chr7', 'chr8', 'chr9', 'chr10', 'chr11', 'chr12', 'chr13', 'chr14', 'chr15', 'chr16', 'chr17', 'chr18', 'chr19', 'chr20', 'chr21', 'chr22']\n"
     ]
    }
   ],
   "source": [
    "import numpy as np\n",
    "\n",
    "single_area_result_path = r'/Users/ksg/cym/predict_res_Wgan/'\n",
    "save_path = r'/Users/ksg/cym/'\n",
    "\n",
    "\n",
    "vcf_path = r'/Users/ksg/gene_files/real/hg003/merge_vcf_U/'\n",
    "\n",
    "nextsv_path = r'/Users/ksg/gene_files/real/hg003/nextsv/single_area/'\n",
    "smrtsv_path = r'/Users/ksg/gene_files/real/hg003/smrtsv/single_area/'\n",
    "svim_path1 = r'/Users/ksg/gene_files/real/hg003/svim/single_area1/'\n",
    "svim_path = r'/Users/ksg/gene_files/real/hg003/svim/single_area/'\n",
    "sniffles_path = r'/Users/ksg/gene_files/real/hg003/sniffles/single_area/'\n",
    "\n",
    "my_result_path = r'/Users/ksg/gene_files/real/hg003/my2/'\n",
    "\n",
    "ch = ['chr'+str(i) for i in range(1,23)]\n",
    "print(ch)"
   ]
  },
  {
   "cell_type": "code",
   "execution_count": 2,
   "metadata": {},
   "outputs": [],
   "source": [
    "def sort_and_merge_vcf(vcf_path,chid,min_length,max_length):\n",
    "    open_vcf = open(vcf_path+chid+'.txt')\n",
    "    vcf_list = [[int(i.strip().split('\\t')[1]),int(i.strip().split('\\t')[2])] for i in open_vcf.readlines() if (int(i.strip().split('\\t')[3]) > min_length and int(i.strip().split('\\t')[3]) < max_length)]\n",
    "    open_vcf.close()\n",
    "    sorted_vcf_list = sorted(vcf_list, key = lambda x:x[0])\n",
    "    final_vcf_list = [sorted_vcf_list[0]]\n",
    "    for j in range(1,len(sorted_vcf_list)):\n",
    "        if sorted_vcf_list[j][0] > final_vcf_list[-1][-1]:\n",
    "            final_vcf_list.append(sorted_vcf_list[j])\n",
    "        else:\n",
    "            final_vcf_list[-1][-1] = sorted_vcf_list[j][1]\n",
    "    return final_vcf_list"
   ]
  },
  {
   "cell_type": "code",
   "execution_count": 3,
   "metadata": {},
   "outputs": [],
   "source": [
    "def sort_and_merge_tools_result(tools_path,chid,min_length,max_length):\n",
    "    open_tools_result = open(tools_path+chid+'.txt')\n",
    "    tools_result_list = [[int(i.strip().split('\\t')[0]),int(i.strip().split('\\t')[1])] for i in open_tools_result.readlines() if int(i.strip().split('\\t')[2]) > min_length and int(i.strip().split('\\t')[2]) < max_length]\n",
    "    open_tools_result.close()\n",
    "    sorted_tools_result_list = sorted(tools_result_list, key = lambda x:x[0])\n",
    "    final_tools_result_list = [sorted_tools_result_list[0]]\n",
    "    for j in range(1,len(sorted_tools_result_list)):\n",
    "        if sorted_tools_result_list[j][0] > final_tools_result_list[-1][-1]:\n",
    "            final_tools_result_list.append(sorted_tools_result_list[j])\n",
    "        else:\n",
    "            final_tools_result_list[-1][-1] = sorted_tools_result_list[j][1]\n",
    "    return final_tools_result_list"
   ]
  },
  {
   "cell_type": "code",
   "execution_count": 4,
   "metadata": {},
   "outputs": [],
   "source": [
    "def compare_with_vcf_and_tools_result(vcf_path,tools_path,chid,min_length,max_length):\n",
    "    vcf_list = sort_and_merge_vcf(vcf_path,chid,min_length,max_length)\n",
    "    vcf_shape_like_zero_array = np.zeros((len(vcf_list),1))\n",
    "    \n",
    "    tools_result_list = sort_and_merge_tools_result(tools_path,chid,min_length,max_length)\n",
    "    tools_result_shape_like_zero_array = np.zeros((len(tools_result_list),1))\n",
    "    \n",
    "    vcf_array = np.hstack((np.array(vcf_list),vcf_shape_like_zero_array)).astype(int)\n",
    "    tools_result_array = np.hstack((np.array(tools_result_list),tools_result_shape_like_zero_array)).astype(int)\n",
    "    \n",
    "    tp,fp,fp,fn = 0,0,0,0\n",
    "    \n",
    "    for i in vcf_array:\n",
    "        for j in tools_result_array:\n",
    "            if ((j[1] < i[0]) or (j[0] > i[1])) == False:\n",
    "                i[2] += 1\n",
    "                j[2] += 1\n",
    "    \n",
    "    for i1 in vcf_array:\n",
    "        if i1[2] == 0:\n",
    "            fn += 1\n",
    "        else:\n",
    "            tp += 1\n",
    "    \n",
    "    for j1 in tools_result_array:\n",
    "        if j1[2] == 0:\n",
    "            fp += 1    \n",
    "    return fn,fp,tp"
   ]
  },
  {
   "cell_type": "code",
   "execution_count": 2,
   "metadata": {},
   "outputs": [
    {
     "ename": "NameError",
     "evalue": "name 'compare_with_vcf_and_tools_result' is not defined",
     "output_type": "error",
     "traceback": [
      "\u001b[1;31m---------------------------------------------------------------------------\u001b[0m",
      "\u001b[1;31mNameError\u001b[0m                                 Traceback (most recent call last)",
      "\u001b[1;32m<ipython-input-2-f33d8b235797>\u001b[0m in \u001b[0;36m<module>\u001b[1;34m\u001b[0m\n\u001b[0;32m      1\u001b[0m \u001b[0mfn\u001b[0m\u001b[1;33m,\u001b[0m\u001b[0mfp\u001b[0m\u001b[1;33m,\u001b[0m\u001b[0mtp\u001b[0m \u001b[1;33m=\u001b[0m \u001b[1;36m0\u001b[0m\u001b[1;33m,\u001b[0m\u001b[1;36m0\u001b[0m\u001b[1;33m,\u001b[0m\u001b[1;36m0\u001b[0m\u001b[1;33m\u001b[0m\u001b[1;33m\u001b[0m\u001b[0m\n\u001b[0;32m      2\u001b[0m \u001b[1;32mfor\u001b[0m \u001b[0mchid\u001b[0m \u001b[1;32min\u001b[0m \u001b[0mch\u001b[0m\u001b[1;33m:\u001b[0m\u001b[1;33m\u001b[0m\u001b[1;33m\u001b[0m\u001b[0m\n\u001b[1;32m----> 3\u001b[1;33m     \u001b[0mfn_temp\u001b[0m\u001b[1;33m,\u001b[0m\u001b[0mfp_temp\u001b[0m\u001b[1;33m,\u001b[0m\u001b[0mtp_temp\u001b[0m \u001b[1;33m=\u001b[0m \u001b[0mcompare_with_vcf_and_tools_result\u001b[0m\u001b[1;33m(\u001b[0m\u001b[0mvcf_path\u001b[0m\u001b[1;33m,\u001b[0m\u001b[0msmrtsv_path\u001b[0m\u001b[1;33m,\u001b[0m\u001b[0mchid\u001b[0m\u001b[1;33m,\u001b[0m\u001b[1;36m50\u001b[0m\u001b[1;33m,\u001b[0m\u001b[1;36m10000\u001b[0m\u001b[1;33m)\u001b[0m\u001b[1;33m\u001b[0m\u001b[1;33m\u001b[0m\u001b[0m\n\u001b[0m\u001b[0;32m      4\u001b[0m     \u001b[0mfn\u001b[0m \u001b[1;33m+=\u001b[0m \u001b[0mfn_temp\u001b[0m\u001b[1;33m\u001b[0m\u001b[1;33m\u001b[0m\u001b[0m\n\u001b[0;32m      5\u001b[0m     \u001b[0mfp\u001b[0m \u001b[1;33m+=\u001b[0m \u001b[0mfp_temp\u001b[0m\u001b[1;33m\u001b[0m\u001b[1;33m\u001b[0m\u001b[0m\n",
      "\u001b[1;31mNameError\u001b[0m: name 'compare_with_vcf_and_tools_result' is not defined"
     ]
    }
   ],
   "source": [
    "fn,fp,tp = 0,0,0\n",
    "for chid in ch:\n",
    "    fn_temp,fp_temp,tp_temp = compare_with_vcf_and_tools_result(vcf_path,smrtsv_path,chid,50,10000)\n",
    "    fn += fn_temp\n",
    "    fp += fp_temp\n",
    "    tp += tp_temp\n",
    "    \n",
    "precesion = tp/(tp+fp)\n",
    "recall = tp/(tp+fn)\n",
    "f1 = 2*precesion*recall/(recall+precesion)\n",
    "print('tp: '+str(tp))\n",
    "print('fn: '+str(fn))\n",
    "print('fp: '+str(fp))\n",
    "print('recall: '+str(recall)+'\\nprecesion: '+str(precesion)+'\\nf1: '+str(f1))"
   ]
  },
  {
   "cell_type": "code",
   "execution_count": 40,
   "metadata": {},
   "outputs": [
    {
     "name": "stdout",
     "output_type": "stream",
     "text": [
      "tp: 4899\n",
      "fn: 4918\n",
      "fp: 409\n",
      "4899,4918,409\n",
      "recall: 0.4990322909239075\n",
      "precesion: 0.9229464958553127\n",
      "f1: 0.647801652892562\n"
     ]
    }
   ],
   "source": [
    "def dd(tp,fn,fp):\n",
    "#     tp = tp1+tp2\n",
    "#     fn = fn1+fn2\n",
    "#     fp = fp1+fp2\n",
    "    precesion = tp/(tp+fp)\n",
    "    recall = tp/(tp+fn)\n",
    "    f1 = 2*precesion*recall/(recall+precesion)\n",
    "    print('tp: '+str(tp))\n",
    "    print('fn: '+str(fn))\n",
    "    print('fp: '+str(fp))\n",
    "    print(str(tp)+','+str(fn)+','+str(fp))\n",
    "    print('recall: '+str(recall)+'\\nprecesion: '+str(precesion)+'\\nf1: '+str(f1))"
   ]
  }
 ],
 "metadata": {
  "kernelspec": {
   "display_name": "Python 3",
   "language": "python",
   "name": "python3"
  },
  "language_info": {
   "codemirror_mode": {
    "name": "ipython",
    "version": 3
   },
   "file_extension": ".py",
   "mimetype": "text/x-python",
   "name": "python",
   "nbconvert_exporter": "python",
   "pygments_lexer": "ipython3",
   "version": "3.8.5"
  }
 },
 "nbformat": 4,
 "nbformat_minor": 4
}
