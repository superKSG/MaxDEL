{
 "cells": [
  {
   "cell_type": "code",
   "execution_count": 8,
   "metadata": {},
   "outputs": [],
   "source": [
    "import numpy as np"
   ]
  },
  {
   "cell_type": "code",
   "execution_count": 2,
   "metadata": {},
   "outputs": [
    {
     "name": "stdout",
     "output_type": "stream",
     "text": [
      "['chr1', 'chr2', 'chr3', 'chr6', 'chr7', 'chr8', 'chr9', 'chr10', 'chr11', 'chr12', 'chr13', 'chr14', 'chr15', 'chr16', 'chr17', 'chr18', 'chr19', 'chr20', 'chr21', 'chr22']\n"
     ]
    }
   ],
   "source": [
    "nextsv_path = r'/Users/ksg/gene_files/real/hg004/nextsv/single_area/'\n",
    "smrtsv_path = r'/Users/ksg/gene_files/real/hg004/smrtsv/single_area/'\n",
    "svim_path = r'/Users/ksg/gene_files/real/hg004/svim/single_area/'\n",
    "sniffles_path = r'/Users/ksg/gene_files/real/hg004/sniffles/single_area/'\n",
    "\n",
    "depth_file_path = '/Volumes/big_ksg/hg002/ngmlr/chr_depth_file/'\n",
    "save_merged_tools_single_area = r'/Users/ksg/gene_files/real/hg004/'\n",
    "#ch = ['chr'+str(i) for i in range(1,23) if i not in [1,2,3,4,5,6]]\n",
    "ch = ['chr'+str(i) for i in range(1,23) if i not in [4,5]]\n",
    "\n",
    "print(ch)"
   ]
  },
  {
   "cell_type": "code",
   "execution_count": 11,
   "metadata": {},
   "outputs": [],
   "source": [
    "def sort_and_merge_tools_result(tools_path,chid,min_length,max_length):\n",
    "    open_tools_result = open(tools_path+chid+'.txt')\n",
    "    tools_result_list = [[int(i.strip().split('\\t')[0]),int(i.strip().split('\\t')[1])] for i in open_tools_result.readlines() if (int(i.strip().split('\\t')[2]) > min_length and int(i.strip().split('\\t')[2]) < max_length)]\n",
    "    open_tools_result.close()\n",
    "    sorted_tools_result_list = sorted(tools_result_list, key = lambda x:x[0])\n",
    "    final_tools_result_list = [sorted_tools_result_list[0]]\n",
    "    for j in range(1,len(sorted_tools_result_list)):\n",
    "        if sorted_tools_result_list[j][0] > final_tools_result_list[-1][-1]:\n",
    "            final_tools_result_list.append(sorted_tools_result_list[j])\n",
    "        else:\n",
    "            final_tools_result_list[-1][-1] = sorted_tools_result_list[j][1]\n",
    "    return final_tools_result_list"
   ]
  },
  {
   "cell_type": "code",
   "execution_count": 34,
   "metadata": {},
   "outputs": [],
   "source": [
    "def merge_all_tools_result(sniffles_path,svim_path,nextsv_path,smrtsv_path,chid,min_length,max_length):\n",
    "    sniffles = sort_and_merge_tools_result(sniffles_path,chid,min_length,max_length)\n",
    "    svim = sort_and_merge_tools_result(svim_path,chid,min_length,max_length)\n",
    "    nextsv = sort_and_merge_tools_result(nextsv_path,chid,min_length,max_length)\n",
    "    smrtsv = sort_and_merge_tools_result(smrtsv_path,chid,min_length,max_length)\n",
    "    temp = sniffles + svim + nextsv + smrtsv\n",
    "    temp1 = sorted(temp, key = lambda x:x[0])\n",
    "    temp2 = [temp1[0]]\n",
    "    for i in range(1,len(temp1)):\n",
    "        if temp1[i][0] > temp2[-1][1]:\n",
    "            temp2.append(temp1[i])\n",
    "        else:\n",
    "            temp2[-1][1] = max(temp1[i][1],temp2[-1][1])\n",
    "    return temp2"
   ]
  },
  {
   "cell_type": "code",
   "execution_count": 13,
   "metadata": {},
   "outputs": [],
   "source": [
    "\n",
    "def get_del_area(merged_tools_result_list,chid): \n",
    "\n",
    "    \n",
    "    del_areas = []\n",
    "    for line in merged_tools_result_list:\n",
    "        left_point = int(line[0])\n",
    "        right_point = int(line[1])\n",
    "        del_areas.append([left_point,right_point])\n",
    "\n",
    "\n",
    "    return del_areas"
   ]
  },
  {
   "cell_type": "code",
   "execution_count": 14,
   "metadata": {},
   "outputs": [],
   "source": [
    "def get_del_point_inf(merged_tools_result_list,chid,window_length=100,stride=75): \n",
    "    del_areas  = get_del_area(merged_tools_result_list,chid) \n",
    "\n",
    "    final_del_area = []\n",
    "    for i in range(len(del_areas)):\n",
    "        del_length = int(del_areas[i][1]) - int(del_areas[i][0]) + 1\n",
    "        if del_length <= window_length:\n",
    "            final_del_area.append([((int(del_areas[i][1])+int(del_areas[i][0]))//2-49),((int(del_areas[i][1])+int(del_areas[i][0]))//2+50)])\n",
    "        else:\n",
    "            for j in range((del_length - window_length)//stride + 1):\n",
    "                final_del_area.append([int(del_areas[i][0])+j*stride,int(del_areas[i][0])-1+window_length+j*stride])\n",
    "                if j+1 == ((del_length - window_length)//stride + 1) and ((del_length - (((del_length - window_length)//stride)*stride+window_length)) >= 50) and [int(del_areas[i][1])+1-window_length,int(del_areas[i][1])] != final_del_area[-1]:\n",
    "                    final_del_area.append([int(del_areas[i][1])+1-window_length,int(del_areas[i][1])])\n",
    "    print(chid+' get_del_sample_num ... done')\n",
    "    return final_del_area"
   ]
  },
  {
   "cell_type": "code",
   "execution_count": 25,
   "metadata": {},
   "outputs": [
    {
     "name": "stdout",
     "output_type": "stream",
     "text": [
      "chr22 get_del_sample_num ... done\n"
     ]
    }
   ],
   "source": [
    "merged_tools_result_list = merge_all_tools_result(sniffles_path,svim_path,nextsv_path,smrtsv_path,'chr22',50,1000)\n",
    "a = get_del_point_inf(merged_tools_result_list,'chr22')"
   ]
  },
  {
   "cell_type": "code",
   "execution_count": 35,
   "metadata": {},
   "outputs": [
    {
     "name": "stdout",
     "output_type": "stream",
     "text": [
      "chr7 get_del_sample_num ... done\n",
      "chr8 get_del_sample_num ... done\n",
      "chr9 get_del_sample_num ... done\n",
      "chr10 get_del_sample_num ... done\n",
      "chr11 get_del_sample_num ... done\n",
      "chr12 get_del_sample_num ... done\n",
      "chr13 get_del_sample_num ... done\n",
      "chr14 get_del_sample_num ... done\n",
      "chr15 get_del_sample_num ... done\n",
      "chr16 get_del_sample_num ... done\n",
      "chr17 get_del_sample_num ... done\n",
      "chr18 get_del_sample_num ... done\n",
      "chr19 get_del_sample_num ... done\n",
      "chr20 get_del_sample_num ... done\n",
      "chr21 get_del_sample_num ... done\n",
      "chr22 get_del_sample_num ... done\n"
     ]
    }
   ],
   "source": [
    "for chid in ch:\n",
    "    merged_tools_result_list = merge_all_tools_result(sniffles_path,svim_path,nextsv_path,smrtsv_path,chid,50,10000)\n",
    "    a = get_del_point_inf(merged_tools_result_list,chid)\n",
    "    save_file = open(save_merged_tools_single_area+chid+'_single_del_area.txt',\"w\")\n",
    "    for i in a:\n",
    "        save_file.write(str(i[0])+\"\\t\"+str(i[1])+\"\\n\")\n",
    "    save_file.close()"
   ]
  }
 ],
 "metadata": {
  "kernelspec": {
   "display_name": "Python 3",
   "language": "python",
   "name": "python3"
  },
  "language_info": {
   "codemirror_mode": {
    "name": "ipython",
    "version": 3
   },
   "file_extension": ".py",
   "mimetype": "text/x-python",
   "name": "python",
   "nbconvert_exporter": "python",
   "pygments_lexer": "ipython3",
   "version": "3.8.5"
  }
 },
 "nbformat": 4,
 "nbformat_minor": 4
}
