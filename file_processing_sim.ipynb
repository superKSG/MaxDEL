{
 "cells": [
  {
   "cell_type": "code",
   "execution_count": 6,
   "metadata": {},
   "outputs": [],
   "source": [
    "import numpy as np\n",
    "import glob"
   ]
  },
  {
   "cell_type": "code",
   "execution_count": 1,
   "metadata": {},
   "outputs": [
    {
     "name": "stdout",
     "output_type": "stream",
     "text": [
      "['chr1', 'chr2', 'chr3', 'chr4', 'chr5', 'chr6', 'chr7', 'chr8', 'chr9', 'chr10', 'chr11', 'chr12', 'chr13', 'chr14', 'chr15', 'chr16', 'chr17', 'chr18', 'chr19', 'chr20', 'chr21', 'chr22']\n"
     ]
    }
   ],
   "source": [
    "ch = ['chr'+str(i) for i in range(1,23)]\n",
    "print(ch)"
   ]
  },
  {
   "cell_type": "code",
   "execution_count": 3,
   "metadata": {},
   "outputs": [],
   "source": [
    "#50-1000\n",
    "c_50_1000_sniffles = r'/Users/ksg/gene_files/sim/50-1k/chunhe/sniffles/'\n",
    "c_50_1000_svim = r'/Users/ksg/gene_files/sim/50-1k/chunhe/svim/'\n",
    "c_50_1000_nextsv = r'/Users/ksg/gene_files/sim/50-1k/chunhe/nextsv/'\n",
    "c_50_1000_picky = r'/Users/ksg/gene_files/sim/50-1k/chunhe/picky/'\n",
    "\n",
    "z_50_1000_sniffles = r'/Users/ksg/gene_files/sim/50-1k/zahe/sniffles/'\n",
    "z_50_1000_svim = r'/Users/ksg/gene_files/sim/50-1k/zahe/svim/'\n",
    "z_50_1000_nextsv = r'/Users/ksg/gene_files/sim/50-1k/zahe/nextsv/'\n",
    "z_50_1000_picky = r'/Users/ksg/gene_files/sim/50-1k/zahe/picky/'"
   ]
  },
  {
   "cell_type": "code",
   "execution_count": 4,
   "metadata": {},
   "outputs": [],
   "source": [
    "#1k-5k\n",
    "c_1k_5k_sniffles = r'/Users/ksg/gene_files/sim/1k-5k/chunhe/sniffles/'\n",
    "c_1k_5k_svim = r'/Users/ksg/gene_files/sim/1k-5k/chunhe/svim/'\n",
    "c_1k_5k_nextsv = r'/Users/ksg/gene_files/sim/1k-5k/chunhe/nextsv/'\n",
    "c_1k_5k_picky = r'/Users/ksg/gene_files/sim/1k-5k/chunhe/picky/'\n",
    "\n",
    "z_1k_5k_sniffles = r'/Users/ksg/gene_files/sim/1k-5k/zahe/sniffles/'\n",
    "z_1k_5k_svim = r'/Users/ksg/gene_files/sim/1k-5k/zahe/svim/'\n",
    "z_1k_5k_nextsv = r'/Users/ksg/gene_files/sim/1k-5k/zahe/nextsv/'\n",
    "z_1k_5k_picky = r'/Users/ksg/gene_files/sim/1k-5k/zahe/picky/'"
   ]
  },
  {
   "cell_type": "code",
   "execution_count": 7,
   "metadata": {},
   "outputs": [],
   "source": [
    "def get_c_sniffles(path):\n",
    "    full_name = glob.glob(path+'*vcf')\n",
    "    for name in full_name:\n",
    "        a = open(name)\n",
    "        file_list = [[int(i.strip().split('\\t')[1]),int(i.strip().split('\\t')[7].split(';')[3].split('=')[-1])] for i in  a.readlines()[35:] if (('SVTYPE=DEL' in i.strip().split('\\t')[7]) and (len(i.strip().split('\\t')[3])>1))]\n",
    "        a.close()\n",
    "        #print(file_list)\n",
    "        write_file = open(path+'single_area/'+name.strip().split('/')[-1].split('.')[0]+'.txt',\"w\")\n",
    "        for j in file_list:\n",
    "            write_file.write(str(j[0])+'\\t'+str(j[1])+'\\t'+str(j[1]-j[0])+'\\n')\n",
    "        write_file.close()\n",
    "write_sniffles = get_c_sniffles(c_1k_5k_sniffles)"
   ]
  },
  {
   "cell_type": "code",
   "execution_count": 10,
   "metadata": {},
   "outputs": [],
   "source": [
    "def get_c_svim(path):\n",
    "    full_name = glob.glob(path+'*vcf')\n",
    "    for name in full_name:\n",
    "        a = open(name)\n",
    "        #file_list = [[i.strip().split('\\t')[1],i.strip().split('\\t')[7].split(';')[1].split('=')[-1]] for i in a.readlines()[27:] if (int(i.strip().split('\\t')[5])>=3) and ('DEL' in i.strip().split('\\t')[2]) and ('DEL' in i.strip().split('\\t')[4]) and ('DEL' in i.strip().split('\\t')[7])]\n",
    "        file_list = [[i.strip().split('\\t')[1],i.strip().split('\\t')[7].split(';')[1].split('=')[-1]] for i in a.readlines()[27:] if ('DEL' in i.strip().split('\\t')[2]) and ('DEL' in i.strip().split('\\t')[4]) and ('DEL' in i.strip().split('\\t')[7])]\n",
    "        a.close()\n",
    "        write_file = open(path+'single_area1/'+name.strip().split('/')[-1].split('.')[0]+'.txt',\"w\")\n",
    "        for j in file_list:\n",
    "            write_file.write(j[0]+'\\t'+j[1]+'\\t'+str(int(j[1])-int(j[0]))+'\\n')\n",
    "        write_file.close()\n",
    "write_svim = get_c_svim(z_1k_5k_svim)"
   ]
  },
  {
   "cell_type": "code",
   "execution_count": 5,
   "metadata": {},
   "outputs": [],
   "source": [
    "def get_c_nextsv(path):\n",
    "    full_name = glob.glob(path+'*vcf')\n",
    "    for name in full_name:\n",
    "        a = open(name)\n",
    "        file_list = [[i.strip().split('\\t')[1],i.strip().split('\\t')[7].split(';')[3].split('=')[-1]] for i in a.readlines()[35:] if (('SVTYPE=DEL' in i.strip().split('\\t')[7]) and (len(i.strip().split('\\t')[3])>1))]\n",
    "        a.close()\n",
    "        write_file = open(path+'single_area/'+name.strip().split('/')[-1][:-4]+'.txt',\"w\")\n",
    "        for j in file_list:\n",
    "            write_file.write(j[0]+'\\t'+j[1]+'\\t'+str(int(j[1])-int(j[0]))+'\\n')\n",
    "        write_file.close()\n",
    "write_nextsv = get_c_nextsv(c_1k_5k_nextsv)"
   ]
  },
  {
   "cell_type": "code",
   "execution_count": 9,
   "metadata": {},
   "outputs": [],
   "source": [
    "def get_c_picky(path):\n",
    "    full_name = glob.glob(path+'*vcf')\n",
    "    for name in full_name:\n",
    "        a = open(name)\n",
    "        #file_list = a.readlines()[24:33]\n",
    "        \n",
    "        file_list = [[i.strip().split('\\t')[1],i.strip().split('\\t')[7].split(';')[2].split('=')[-1]] for i in a.readlines()[24:] if i.strip().split('\\t')[4] == '<DEL>']\n",
    "        a.close()\n",
    "        write_file = open(path+'single_area/'+name.strip().split('/')[-1][:-4]+'.txt',\"w\")\n",
    "        for j in file_list:\n",
    "            write_file.write(j[0]+'\\t'+j[1]+'\\t'+str(int(j[1])-int(j[0]))+'\\n')\n",
    "        write_file.close()\n",
    "write_nextsv = get_c_picky(c_1k_5k_picky)"
   ]
  },
  {
   "cell_type": "code",
   "execution_count": null,
   "metadata": {},
   "outputs": [],
   "source": []
  },
  {
   "cell_type": "code",
   "execution_count": 18,
   "metadata": {},
   "outputs": [],
   "source": [
    "vcf_50_1000 = r'/Users/ksg/gene_files/sim/50-1k/vcf/'\n",
    "vcf_1k_5k = r'/Users/ksg/gene_files/sim/1k-5k/vcf/'\n",
    "vcf_save_path_50_1000 = r'/Users/ksg/gene_files/sim/50-1k/vcf/'\n",
    "vcf_save_path_1k_5k = r'/Users/ksg/gene_files/sim/1k-5k/vcf/'"
   ]
  },
  {
   "cell_type": "code",
   "execution_count": 23,
   "metadata": {},
   "outputs": [],
   "source": [
    "def get_sim_vcf(file_path,save_path):\n",
    "    full_name = glob.glob(file_path+'*bed')\n",
    "    for name in full_name:\n",
    "        a = open(name)\n",
    "        file_list = [[i.strip().split('\\t')[0],int(i.strip().split('\\t')[1]),int(i.strip().split('\\t')[3])] for i in a.readlines() if i.strip().split('\\t')[4] == 'DEL']\n",
    "        a.close()\n",
    "        sorted_file_list = sorted(file_list, key = lambda x:x[1])\n",
    "        write_file = open(save_path+name.strip().split('/')[-1][:-4]+'.txt',\"w\")\n",
    "        for j in sorted_file_list:\n",
    "            write_file.write(j[0]+'\\t'+str(j[1])+'\\t'+str(j[2])+'\\t'+str(j[2]-j[1])+'\\n')\n",
    "        write_file.close()\n",
    "\n",
    "write_vcf_50_1000 = get_sim_vcf(vcf_50_1000,vcf_save_path_50_1000)\n",
    "write_vcf_1k_5k = get_sim_vcf(vcf_1k_5k,vcf_save_path_1k_5k)"
   ]
  },
  {
   "cell_type": "code",
   "execution_count": 39,
   "metadata": {},
   "outputs": [],
   "source": [
    "def get_zahe_sim_vcf(path):\n",
    "    for chid in ch:\n",
    "        full_name = glob.glob(path+'*'+chid+'*')\n",
    "        temp_list = []\n",
    "        for name in full_name:\n",
    "            a = open(name)\n",
    "            b = [[int(i.strip().split('\\t')[1]),int(i.strip().split('\\t')[2])] for i in a.readlines()]\n",
    "            a.close()\n",
    "            temp_list = temp_list + b\n",
    "        sorted_temp_list = sorted(temp_list, key = lambda x:x[0])\n",
    "        final_list = [sorted_temp_list[0]]\n",
    "        for i in range(1,len(sorted_temp_list)):\n",
    "            if sorted_temp_list[i][0] > final_list[-1][-1]:\n",
    "                final_list.append(sorted_temp_list[i])\n",
    "            else:\n",
    "                final_list[-1][-1] = sorted_temp_list[i][1]\n",
    "\n",
    "        write_zahe_file = open('/Users/ksg/gene_files/sim/1k-5k/'+chid+'.txt',\"w\")\n",
    "        for j in final_list:\n",
    "            write_zahe_file.write(chid+'\\t'+str(j[0])+'\\t'+str(j[1])+'\\t'+str(j[1]-j[0])+'\\n')\n",
    "aa = get_zahe_sim_vcf(vcf_save_path_1k_5k)"
   ]
  },
  {
   "cell_type": "code",
   "execution_count": null,
   "metadata": {},
   "outputs": [],
   "source": []
  }
 ],
 "metadata": {
  "kernelspec": {
   "display_name": "Python 3",
   "language": "python",
   "name": "python3"
  },
  "language_info": {
   "codemirror_mode": {
    "name": "ipython",
    "version": 3
   },
   "file_extension": ".py",
   "mimetype": "text/x-python",
   "name": "python",
   "nbconvert_exporter": "python",
   "pygments_lexer": "ipython3",
   "version": "3.8.5"
  }
 },
 "nbformat": 4,
 "nbformat_minor": 4
}
