{
 "cells": [
  {
   "cell_type": "code",
   "execution_count": 1,
   "metadata": {},
   "outputs": [],
   "source": [
    "import pysam\n",
    "import numpy as np\n",
    "import os\n",
    "import math\n",
    "from scipy import stats\n",
    "import get_area_match_model as gamm\n",
    "from functools import  partial\n",
    "import get_training_data_0 as zero_area\n",
    "import get_training_data_1 as one_area"
   ]
  },
  {
   "cell_type": "code",
   "execution_count": 2,
   "metadata": {},
   "outputs": [],
   "source": [
    "ch = ['chr1','chr2','chr3','chr4','chr5',\n",
    "      'chr6','chr7','chr8','chr9','chr10',\n",
    "      'chr11','chr12','chr13','chr14','chr15',\n",
    "      'chr16','chr17','chr19','chr20',\n",
    "     'chr21']\n",
    "vcf_file_path = r'/Volumes/big_ksg/lyx_del_code/del_vcf/'\n",
    "#format in vcf_file_path：'chr18\\t10050\\t10659\\t1\\n'\n",
    "depth_file_path = r'/Volumes/big_ksg/lyx_del_code/chr_depth/'\n",
    "#format in depth_file_path：'chr18\\tpos\\tdepth\\n'\n",
    "bam_file_path = r'/Volumes/big_ksg/55x/'  #sorted_final_merged.bam\n",
    "ml_save_path_zero = r'/Volumes/big_ksg/lyx_del_code/ml_training_inf/zero/'\n",
    "ml_save_path_one = r'/Volumes/big_ksg/lyx_del_code/ml_training_inf/one/'\n",
    "dl_save_path_zero = r'/Volumes/big_ksg/lyx_del_code/dl_pic/0/'\n",
    "dl_save_path_one = r'/Volumes/big_ksg/lyx_del_code/dl_pic/1/'"
   ]
  },
  {
   "cell_type": "code",
   "execution_count": 8,
   "metadata": {},
   "outputs": [],
   "source": [
    "def var_exp(x):\n",
    "    return (math.exp((x/20)**0.5)-1)/math.exp((x/20)**0.5)\n",
    "\n",
    "def binarySearch (arr, l, r, x): \n",
    "    if r >= l: \n",
    "        mid = int(l + (r - l)/2)\n",
    "        if int(arr[mid].strip().split('\\t')[1]) == x: \n",
    "            return mid \n",
    "        elif int(arr[mid].strip().split('\\t')[1]) > x: \n",
    "            return binarySearch(arr, l, mid-1, x) \n",
    "        else: \n",
    "            return binarySearch(arr, mid+1, r, x)   \n",
    "    else: \n",
    "        return -1"
   ]
  },
  {
   "cell_type": "code",
   "execution_count": 4,
   "metadata": {},
   "outputs": [],
   "source": [
    "def div0(a,b):\n",
    "    with np.errstate(divide='ignore', invalid='ignore'):\n",
    "        c = np.true_divide(a,b)\n",
    "        c[ ~ np.isfinite(c)] = 0\n",
    "    return c\n",
    "\n",
    "def get_single_area_pysam_inf(single_area_list,open_bam_file,chid):\n",
    "    pysam_read_count_primary = 0\n",
    "    pysam_read_count_secondary = 0\n",
    "    for read in open_bam_file.fetch(contig=chid,start=single_area_list[0],stop=single_area_list[1]):\n",
    "        if read.is_secondary == False:\n",
    "            pysam_read_count_primary += 1\n",
    "        elif read.is_secondary == True:\n",
    "            pysam_read_count_secondary += 1\n",
    "    return pysam_read_count_primary,pysam_read_count_secondary"
   ]
  },
  {
   "cell_type": "code",
   "execution_count": 10,
   "metadata": {},
   "outputs": [],
   "source": [
    "def get_area_feature(final_single_areas,bam_file_path,save_path,chid,open_depth_file,open_depth_file_len,variation_or_not='',window_length=100,stride=75): #此步骤保存特征为txt文件，方便访问\n",
    "\n",
    "    save_file = open(save_path+chid+'_get_'+variation_or_not+'_area_feature.txt',\"w+\")\n",
    "    temp = np.zeros(shape=(1,18))\n",
    "    open_bam_file = pysam.AlignmentFile(bam_file_path+'sorted_final_merged_'+chid+'.bam','rb')\n",
    "    for i in range(len(final_single_areas)):\n",
    "        temp_array_up,temp_array_now,temp_array_down = [],[],[] \n",
    "        depth_count_up,depth_count_now,depth_count_down = [],[],[]\n",
    "        \n",
    "        now_area = final_single_areas[i] \n",
    "        \n",
    "        result_now = binarySearch(open_depth_file,0,open_depth_file_len,now_area[0])\n",
    "        \n",
    "        depth_count_now = [int(open_depth_file[result_now+j1].strip().split('\\t')[2]) for j1 in range(window_length)]\n",
    "        \n",
    "        area_depth_average_now = np.mean(np.array(depth_count_now)) \n",
    "        \n",
    "        area_depth_var_now = np.var(np.array(depth_count_now)) \n",
    "        \n",
    "        count_del_percent_now,count_soft_clip_percent_now,count_primary_percent_now,read_num_now = gamm.match_model(bam_file_path,chid,now_area[0],now_area[1])\n",
    "        \n",
    "        now_feature = np.array([#now_area[0],now_area[1],\n",
    "                                count_primary_percent_now\n",
    "                                ,var_exp(area_depth_var_now)\n",
    "                                ,read_num_now\n",
    "                                ,count_del_percent_now\n",
    "                                ,count_soft_clip_percent_now\n",
    "                                ,area_depth_average_now])\n",
    "\n",
    "        final_sample_features = now_feature\n",
    "        final_sample_features = ['%.7s'%str(final_sample_feature) for final_sample_feature in final_sample_features]\n",
    "        \n",
    "        save_file.write(str(now_area[0])+'-'+str(now_area[1])+'\\t'\n",
    "                        +final_sample_features[0]+'\\t' \n",
    "                        +final_sample_features[1]+'\\t' \n",
    "                        +final_sample_features[2]+'\\t' \n",
    "                        +final_sample_features[3]+'\\t' \n",
    "                        +final_sample_features[4]+'\\t' \n",
    "                        +final_sample_features[5]+'\\t'\n",
    "                        +str(1 if variation_or_not == 'one' else 0)+'\\n')\n",
    "    print(chid+' write_'+variation_or_not+'_sample_feature ... done')\n",
    "    open_bam_file.close()\n",
    "    #return final_sample_features"
   ]
  }
 ],
 "metadata": {
  "kernelspec": {
   "display_name": "Python 3",
   "language": "python",
   "name": "python3"
  },
  "language_info": {
   "codemirror_mode": {
    "name": "ipython",
    "version": 3
   },
   "file_extension": ".py",
   "mimetype": "text/x-python",
   "name": "python",
   "nbconvert_exporter": "python",
   "pygments_lexer": "ipython3",
   "version": "3.8.5"
  }
 },
 "nbformat": 4,
 "nbformat_minor": 2
}
