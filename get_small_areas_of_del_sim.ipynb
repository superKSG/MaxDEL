{
 "cells": [
  {
   "cell_type": "code",
   "execution_count": 1,
   "metadata": {},
   "outputs": [],
   "source": [
    "import os , glob\n",
    "import pysam\n",
    "import math\n",
    "import numpy as np\n",
    "from scipy import stats"
   ]
  },
  {
   "cell_type": "code",
   "execution_count": 2,
   "metadata": {},
   "outputs": [],
   "source": [
    "ch = ['chr'+str(i) for i in range(22,23)]\n",
    "vcf_file_path = r'/Users/ksg/gene_files/sim/merge.txt'\n",
    "depth_file_path = r'/Users/ksg/gene_files/sim/SURVIVOR_fa/'\n",
    "save_chr_single_area_path = r'/Users/ksg/gene_files/sim/'"
   ]
  },
  {
   "cell_type": "code",
   "execution_count": 2,
   "metadata": {},
   "outputs": [],
   "source": [
    "def get_del_area(vcf_file_path,chid): \n",
    "    open_vcf_file = open(vcf_file_path)\n",
    "    vcf_file_list = [i.strip().split('\\t') for i in open_vcf_file.readlines()]\n",
    "    del_areas = []\n",
    "    for line in vcf_file_list:\n",
    "        left_point = int(line[0])-50\n",
    "        right_point = int(line[1])+50\n",
    "        del_areas.append([left_point,right_point])\n",
    "    open_vcf_file.close()\n",
    "    return del_areas "
   ]
  },
  {
   "cell_type": "code",
   "execution_count": 3,
   "metadata": {},
   "outputs": [],
   "source": [
    "def get_del_point_inf(vcf_file_path,chid,window_length=100,stride=100): \n",
    "    del_areas = get_del_area(vcf_file_path,chid) \n",
    "    #end_point = int(depth_file_list[-1].strip().split('\\t')[1])\n",
    "    final_del_area = []\n",
    "    for i in range(len(del_areas)): \n",
    "        del_length = int(del_areas[i][1]) - int(del_areas[i][0]) + 1\n",
    "        if del_length <= 100:\n",
    "            final_del_area.append([((int(del_areas[i][1])+int(del_areas[i][0]))//2-49),((int(del_areas[i][1])+int(del_areas[i][0]))//2+50)])\n",
    "        else:\n",
    "            for j in range((del_length - window_length)//stride + 1):\n",
    "                final_del_area.append([int(del_areas[i][0])+j*stride,int(del_areas[i][0])-1+window_length+j*stride])\n",
    "                if j+1 == ((del_length - window_length)//stride + 1) and ((del_length - (((del_length - window_length)//stride)*stride+window_length)) >= 50) and [int(del_areas[i][1])+1-window_length,int(del_areas[i][1])] != final_del_area[-1]:\n",
    "                    final_del_area.append([int(del_areas[i][1])+1-window_length,int(del_areas[i][1])])\n",
    "    print(chid+' get_del_sample_num ... done')\n",
    "    return final_del_area"
   ]
  },
  {
   "cell_type": "code",
   "execution_count": 1,
   "metadata": {},
   "outputs": [
    {
     "ename": "NameError",
     "evalue": "name 'ch' is not defined",
     "output_type": "error",
     "traceback": [
      "\u001b[1;31m---------------------------------------------------------------------------\u001b[0m",
      "\u001b[1;31mNameError\u001b[0m                                 Traceback (most recent call last)",
      "\u001b[1;32m<ipython-input-1-dff62f69eae0>\u001b[0m in \u001b[0;36m<module>\u001b[1;34m\u001b[0m\n\u001b[1;32m----> 1\u001b[1;33m \u001b[1;32mfor\u001b[0m \u001b[0mchid\u001b[0m \u001b[1;32min\u001b[0m \u001b[0mch\u001b[0m\u001b[1;33m:\u001b[0m\u001b[1;33m\u001b[0m\u001b[1;33m\u001b[0m\u001b[0m\n\u001b[0m\u001b[0;32m      2\u001b[0m     \u001b[0ma\u001b[0m \u001b[1;33m=\u001b[0m \u001b[0mget_del_point_inf\u001b[0m\u001b[1;33m(\u001b[0m\u001b[0mvcf_file_path\u001b[0m\u001b[1;33m,\u001b[0m\u001b[0mchid\u001b[0m\u001b[1;33m)\u001b[0m\u001b[1;33m\u001b[0m\u001b[1;33m\u001b[0m\u001b[0m\n\u001b[0;32m      3\u001b[0m     \u001b[0msave_file\u001b[0m \u001b[1;33m=\u001b[0m \u001b[0mopen\u001b[0m\u001b[1;33m(\u001b[0m\u001b[0msave_chr_single_area_path\u001b[0m\u001b[1;33m+\u001b[0m\u001b[0mchid\u001b[0m\u001b[1;33m+\u001b[0m\u001b[1;34m'_single_del_area.txt'\u001b[0m\u001b[1;33m,\u001b[0m\u001b[1;34m\"w+\"\u001b[0m\u001b[1;33m)\u001b[0m\u001b[1;33m\u001b[0m\u001b[1;33m\u001b[0m\u001b[0m\n\u001b[0;32m      4\u001b[0m     \u001b[1;32mfor\u001b[0m \u001b[0mi\u001b[0m \u001b[1;32min\u001b[0m \u001b[0ma\u001b[0m\u001b[1;33m:\u001b[0m\u001b[1;33m\u001b[0m\u001b[1;33m\u001b[0m\u001b[0m\n\u001b[0;32m      5\u001b[0m         \u001b[0msave_file\u001b[0m\u001b[1;33m.\u001b[0m\u001b[0mwrite\u001b[0m\u001b[1;33m(\u001b[0m\u001b[0mstr\u001b[0m\u001b[1;33m(\u001b[0m\u001b[0mi\u001b[0m\u001b[1;33m[\u001b[0m\u001b[1;36m0\u001b[0m\u001b[1;33m]\u001b[0m\u001b[1;33m)\u001b[0m\u001b[1;33m+\u001b[0m\u001b[1;34m\"\\t\"\u001b[0m\u001b[1;33m+\u001b[0m\u001b[0mstr\u001b[0m\u001b[1;33m(\u001b[0m\u001b[0mi\u001b[0m\u001b[1;33m[\u001b[0m\u001b[1;36m1\u001b[0m\u001b[1;33m]\u001b[0m\u001b[1;33m)\u001b[0m\u001b[1;33m+\u001b[0m\u001b[1;34m\"\\n\"\u001b[0m\u001b[1;33m)\u001b[0m\u001b[1;33m\u001b[0m\u001b[1;33m\u001b[0m\u001b[0m\n",
      "\u001b[1;31mNameError\u001b[0m: name 'ch' is not defined"
     ]
    }
   ],
   "source": [
    "\n",
    "for chid in ch:\n",
    "    a = get_del_point_inf(vcf_file_path,chid)\n",
    "    save_file = open(save_chr_single_area_path+chid+'_single_del_area.txt',\"w+\")\n",
    "    for i in a:\n",
    "        save_file.write(str(i[0])+\"\\t\"+str(i[1])+\"\\n\")\n",
    "    save_file.close()"
   ]
  },
  {
   "cell_type": "code",
   "execution_count": 7,
   "metadata": {},
   "outputs": [
    {
     "name": "stdout",
     "output_type": "stream",
     "text": [
      "dd get_del_sample_num ... done\n",
      "dd get_del_sample_num ... done\n",
      "dd get_del_sample_num ... done\n",
      "dd get_del_sample_num ... done\n",
      "dd get_del_sample_num ... done\n"
     ]
    }
   ],
   "source": [
    "cc = glob.glob('/Users/ksg/gene_files/sim/1/*txt')\n",
    "for name in cc:\n",
    "    a = get_del_point_inf(name,'dd')\n",
    "    save_file = open('/Users/ksg/gene_files/sim/1/'+name.split('/')[-1][:-4]+'_single_del_area.txt',\"w+\")\n",
    "    for i in a:\n",
    "        save_file.write(str(i[0])+\"\\t\"+str(i[1])+\"\\n\")\n",
    "    save_file.close()"
   ]
  },
  {
   "cell_type": "code",
   "execution_count": null,
   "metadata": {},
   "outputs": [],
   "source": []
  }
 ],
 "metadata": {
  "kernelspec": {
   "display_name": "Python 3",
   "language": "python",
   "name": "python3"
  },
  "language_info": {
   "codemirror_mode": {
    "name": "ipython",
    "version": 3
   },
   "file_extension": ".py",
   "mimetype": "text/x-python",
   "name": "python",
   "nbconvert_exporter": "python",
   "pygments_lexer": "ipython3",
   "version": "3.8.5"
  }
 },
 "nbformat": 4,
 "nbformat_minor": 4
}
