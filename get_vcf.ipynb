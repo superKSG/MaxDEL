{
 "cells": [
  {
   "cell_type": "code",
   "execution_count": 6,
   "metadata": {},
   "outputs": [
    {
     "name": "stdout",
     "output_type": "stream",
     "text": [
      "['chr1', 'chr2', 'chr3', 'chr4', 'chr5', 'chr6', 'chr7', 'chr8', 'chr9', 'chr10', 'chr11', 'chr12', 'chr13', 'chr14', 'chr15', 'chr16', 'chr17', 'chr18', 'chr19', 'chr20', 'chr21', 'chr22']\n"
     ]
    }
   ],
   "source": [
    "import numpy as np\n",
    "import re\n",
    "ch = ['chr'+str(i) for i in range(1,23)]\n",
    "vcf_path = '/Users/ksg/gene_files/hg002/vcf/HG002_SVs_Tier1_v0.6副本.vcf'\n",
    "write_auth_path = '/Users/ksg/gene_files/hg002/vcf/all_length/'\n",
    "\n",
    "#---------------------------------------------------\n",
    "pbhoney_path = r'/Users/ksg/gene_files/hg002/tools_result/pbhoney/'\n",
    "pbsv_path = r'/Users/ksg/gene_files/hg002/tools_result/pbsv/'\n",
    "#---------------------------------------------------\n",
    "\n",
    "\n",
    "sniffles_path = r'/Users/ksg/gene_files/real/hg003/sniffles/' #/file_name\n",
    "svim_path = r'/Users/ksg/gene_files/real/hg004/svim/' #/chr1-22\n",
    "nextsv_path = '/Users/ksg/gene_files/real/hg003/nextsv/' #/file_name\n",
    "smrtsv_path = '/Users/ksg/gene_files/real/hg004/smrtsv/' #/chr1-22\n",
    "picky_path = ''\n",
    "#ch = ['chr19','chr21','chr22']\n",
    "print(ch)"
   ]
  },
  {
   "cell_type": "code",
   "execution_count": 16,
   "metadata": {},
   "outputs": [],
   "source": [
    "def get_authority_vcf_area(vcf_path,write_auth_path,ch):\n",
    "    open_authority_vcf = open(vcf_path)\n",
    "    authority_vcf = open_authority_vcf.readlines()\n",
    "    open_authority_vcf.close()\n",
    "    authority_vcf_list = [i.strip().split('\\t') for i in authority_vcf]\n",
    "    for chid in ch:\n",
    "        write_file = open(write_auth_path+chid+'.txt',\"w+\")\n",
    "        for i in authority_vcf_list:\n",
    "            if chid[3:] == i[0]:\n",
    "                if ('SVTYPE=DEL' in i[7]) and (len(i[3]) > 1):\n",
    "                    if i[6] in ['LongReadHomRef', 'NoConsensusGT', 'ClusteredCalls', 'lt50bp', 'PASS']:\n",
    "                        j = i[7].split('END=')[-1].split(';')[0]\n",
    "                        if j[-1] == ']':\n",
    "                            k = j[:-1]\n",
    "                        else:\n",
    "                            k = j\n",
    "                        #if ((int(k)-int(i[1])) >= 50) and ((int(k)-int(i[1])) <= 1000):\n",
    "                        write_file.write(chid+\"\\t\"+i[1]+\"\\t\"+k+\"\\t\"+str(int(k)-int(i[1]))+\"\\n\")\n",
    "        write_file.close()\n",
    "\n",
    "dd = get_authority_vcf_area(vcf_path,write_auth_path,ch)"
   ]
  },
  {
   "cell_type": "code",
   "execution_count": 16,
   "metadata": {},
   "outputs": [],
   "source": [
    "#sniffles\n",
    "def get_sniffles_area(sniffles_path,ch):\n",
    "    for chid in ch:\n",
    "        open_sniffles_result = open(sniffles_path+'hg004_hg19_'+chid+'.vcf')\n",
    "        sniffles_list = [i.strip().split('\\t') for i in open_sniffles_result.readlines()[34:]]\n",
    "        open_sniffles_result.close()\n",
    "\n",
    "        write_file = open(sniffles_path+'single_area/'+chid+'.txt',\"w+\")\n",
    "        for j in sniffles_list:\n",
    "            if (('SVTYPE=DEL' in j[7]) or (j[4] == '<DEL>')) and j[0] == chid and (j[3] not in ['N','.']):\n",
    "                start = j[1]\n",
    "                end = j[7].split(';')[3].split('=')[-1]\n",
    "                #if int(end)-int(start)+1 >= 45 and int(end)-int(start)+1 <= 1100:\n",
    "                write_file.write(start+'\\t'+end+'\\t'+str(int(end)-int(start)+1)+'\\n')\n",
    "        write_file.close()\n",
    "\n",
    "            \n",
    "sniffles_result = get_sniffles_area(sniffles_path,ch)"
   ]
  },
  {
   "cell_type": "code",
   "execution_count": 22,
   "metadata": {},
   "outputs": [],
   "source": [
    "#svim\n",
    "def get_svim_area(svim_path,ch):\n",
    "    for chid in ch:\n",
    "        open_svim_result = open(svim_path+chid+'/variants.vcf')\n",
    "        svim_list = [i.strip().split('\\t') for i in open_svim_result.readlines()[27:]]\n",
    "        open_svim_result.close()\n",
    "\n",
    "        write_file = open(svim_path+'single_area/'+chid+'.txt',\"w+\")\n",
    "        for j in svim_list:\n",
    "            #if ('=DEL' in j[7]) and j[6] == 'PASS' and j[0] == chid and int(j[5])>=5:\n",
    "            if ('=DEL' in j[7]) and j[6] == 'PASS' and j[0] == chid and int(j[5])>=5:\n",
    "                start = j[1]\n",
    "                end = j[7].split(';')[1].split('=')[-1]\n",
    "                #if int(end)-int(start)+1 >= 45 and int(end)-int(start)+1 <= 1100:\n",
    "                write_file.write(start+'\\t'+end+'\\t'+str(int(end)-int(start)+1)+'\\n')\n",
    "        write_file.close()\n",
    "            \n",
    "svim_result = get_svim_area(svim_path,ch)"
   ]
  },
  {
   "cell_type": "code",
   "execution_count": 18,
   "metadata": {},
   "outputs": [],
   "source": [
    "#nextsv\n",
    "def get_nextsv_area(nextsv_path,ch):\n",
    "    for chid in ch:\n",
    "        open_nextsv_result = open(nextsv_path+'hg004_'+chid+'.minimap2.sniffles.vcf')\n",
    "        nextsv_list = [i.strip().split('\\t') for i in open_nextsv_result.readlines()[35:]]\n",
    "        open_nextsv_result.close()\n",
    "        #print(nextsv_list[:4])\n",
    "        \n",
    "        write_file = open(nextsv_path+'single_area/'+chid+'.txt',\"w+\")\n",
    "        for j in nextsv_list:\n",
    "            if (('SVTYPE=DEL' in j[7]) or (j[4] == '<DEL>')) and j[0] == chid and (j[3] not in ['N','.']):\n",
    "                start = j[1]\n",
    "                end = j[7].split(';')[3].split('=')[-1]\n",
    "                #print(start,end)\n",
    "                #if int(end)-int(start)+1 >= 45 and int(end)-int(start)+1 <= 1100:\n",
    "                write_file.write(start+'\\t'+end+'\\t'+str(int(end)-int(start)+1)+'\\n')\n",
    "        write_file.close()\n",
    "            \n",
    "svim_result = get_nextsv_area(nextsv_path,ch)"
   ]
  },
  {
   "cell_type": "code",
   "execution_count": 7,
   "metadata": {},
   "outputs": [],
   "source": [
    "#smrtsv\n",
    "def get_smrtsv_area(smrtsv_path,ch):\n",
    "    for chid in ch:\n",
    "        try:\n",
    "            open_smrtsv_result = open(smrtsv_path+chid+'/gaps_del.bed')\n",
    "            smrtsv_list = [i.strip().split('\\t') for i in open_smrtsv_result.readlines()]\n",
    "            open_smrtsv_result.close()\n",
    "        except FileNotFoundError:\n",
    "            pass\n",
    "    \n",
    "        else:\n",
    "            write_file = open(smrtsv_path+'single_area/'+chid+'.txt',\"w+\")\n",
    "            for j in smrtsv_list:\n",
    "                start = j[1]\n",
    "                end = j[2]\n",
    "\n",
    "                write_file.write(start+'\\t'+end+'\\t'+str(int(end)-int(start)+1)+'\\n')\n",
    "            write_file.close()\n",
    "            \n",
    "svim_result = get_smrtsv_area(smrtsv_path,ch)"
   ]
  },
  {
   "cell_type": "code",
   "execution_count": 11,
   "metadata": {},
   "outputs": [],
   "source": []
  },
  {
   "cell_type": "code",
   "execution_count": null,
   "metadata": {},
   "outputs": [],
   "source": []
  },
  {
   "cell_type": "code",
   "execution_count": 12,
   "metadata": {},
   "outputs": [
    {
     "data": {
      "text/plain": [
       "True"
      ]
     },
     "execution_count": 12,
     "metadata": {},
     "output_type": "execute_result"
    }
   ],
   "source": [
    "ffd not in dff"
   ]
  }
 ],
 "metadata": {
  "kernelspec": {
   "display_name": "Python 3",
   "language": "python",
   "name": "python3"
  },
  "language_info": {
   "codemirror_mode": {
    "name": "ipython",
    "version": 3
   },
   "file_extension": ".py",
   "mimetype": "text/x-python",
   "name": "python",
   "nbconvert_exporter": "python",
   "pygments_lexer": "ipython3",
   "version": "3.8.5"
  }
 },
 "nbformat": 4,
 "nbformat_minor": 4
}
