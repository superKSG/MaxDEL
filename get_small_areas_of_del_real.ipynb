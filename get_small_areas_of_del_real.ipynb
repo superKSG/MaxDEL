{
 "cells": [
  {
   "cell_type": "code",
   "execution_count": 1,
   "metadata": {},
   "outputs": [],
   "source": [
    "import os\n",
    "import pysam\n",
    "import math\n",
    "import numpy as np\n",
    "from scipy import stats"
   ]
  },
  {
   "cell_type": "code",
   "execution_count": 2,
   "metadata": {},
   "outputs": [],
   "source": [
    "ch = ['chr'+str(i) for i in range(1,23)]\n",
    "vcf_file_path = '/Users/ksg/gene_files/hg002/vcf/只有PASS/'\n",
    "#depth_file_path = '/Volumes/big_ksg/hg002/ngmlr/chr_depth_file/'\n",
    "depth_file_path = r'/Users/ksg/gene_files/sim/SURVIVOR_fa/'\n",
    "save_chr_single_area_path = r'/Users/ksg/gene_files/hg002/vcf/只有PASS/chr_single_area/'"
   ]
  },
  {
   "cell_type": "code",
   "execution_count": 3,
   "metadata": {},
   "outputs": [],
   "source": [
    "def get_del_area(vcf_file_path,depth_file_path,chid): \n",
    "    open_vcf_file = open(vcf_file_path + chid + '.txt') #vcf：chr18\t10050\t10659\t1\n",
    "    vcf_file_list = open_vcf_file.readlines()\n",
    "    open_depth_file = open(depth_file_path + chid + '_depth.txt')\n",
    "    depth_file_list = open_depth_file.readlines()\n",
    "    depth_start = int(depth_file_list[0].strip().split('\\t')[1])\n",
    "    depth_stop = int(depth_file_list[-1].strip().split('\\t')[1])\n",
    "    del_areas = []\n",
    "    for line in vcf_file_list:\n",
    "        left_point = int(line.strip().split('\\t')[1])\n",
    "        right_point = int(line.strip().split('\\t')[2])\n",
    "        del_areas.append([max(depth_start,left_point),min(depth_stop,right_point)])\n",
    "    open_depth_file.close()\n",
    "    open_vcf_file.close()\n",
    "    return del_areas , depth_file_list #return。[[10003, 10709], ……, [78016291, 78016657]]"
   ]
  },
  {
   "cell_type": "code",
   "execution_count": 8,
   "metadata": {},
   "outputs": [],
   "source": [
    "def get_del_point_inf(vcf_file_path,depth_file_path,chid,window_length=100,stride=75): \n",
    "    del_areas , depth_file_list = get_del_area(vcf_file_path,depth_file_path,chid)\n",
    "    end_point = int(depth_file_list[-1].strip().split('\\t')[1])\n",
    "    final_del_area = []\n",
    "    for i in range(len(del_areas)): \n",
    "        del_length = int(del_areas[i][1]) - int(del_areas[i][0]) + 1\n",
    "        if del_length <= 100:\n",
    "            final_del_area.append([((int(del_areas[i][1])+int(del_areas[i][0]))//2-49),((int(del_areas[i][1])+int(del_areas[i][0]))//2+50)])\n",
    "        else:\n",
    "            for j in range((del_length - window_length)//stride + 1):\n",
    "                final_del_area.append([int(del_areas[i][0])+j*stride,int(del_areas[i][0])-1+window_length+j*stride])\n",
    "                if j+1 == ((del_length - window_length)//stride + 1) and ((del_length - (((del_length - window_length)//stride)*stride+window_length)) >= 50) and [int(del_areas[i][1])+1-window_length,int(del_areas[i][1])] != final_del_area[-1]:\n",
    "                    final_del_area.append([int(del_areas[i][1])+1-window_length,int(del_areas[i][1])])\n",
    "    print(chid+' get_del_sample_num ... done')\n",
    "    return final_del_area"
   ]
  },
  {
   "cell_type": "code",
   "execution_count": 14,
   "metadata": {},
   "outputs": [
    {
     "name": "stdout",
     "output_type": "stream",
     "text": [
      "chr1 get_del_sample_num ... done\n",
      "chr2 get_del_sample_num ... done\n",
      "chr3 get_del_sample_num ... done\n",
      "chr4 get_del_sample_num ... done\n",
      "chr5 get_del_sample_num ... done\n",
      "chr6 get_del_sample_num ... done\n",
      "chr7 get_del_sample_num ... done\n",
      "chr8 get_del_sample_num ... done\n",
      "chr9 get_del_sample_num ... done\n",
      "chr10 get_del_sample_num ... done\n",
      "chr11 get_del_sample_num ... done\n",
      "chr12 get_del_sample_num ... done\n",
      "chr13 get_del_sample_num ... done\n",
      "chr14 get_del_sample_num ... done\n",
      "chr15 get_del_sample_num ... done\n",
      "chr16 get_del_sample_num ... done\n",
      "chr17 get_del_sample_num ... done\n",
      "chr18 get_del_sample_num ... done\n",
      "chr19 get_del_sample_num ... done\n",
      "chr20 get_del_sample_num ... done\n",
      "chr21 get_del_sample_num ... done\n",
      "chr22 get_del_sample_num ... done\n"
     ]
    }
   ],
   "source": [
    "for chid in ch:\n",
    "    a = get_del_point_inf(vcf_file_path,depth_file_path,chid)\n",
    "    save_file = open(save_chr_single_area_path+chid+'_single_del_area.txt',\"w+\")\n",
    "    for i in a:\n",
    "        save_file.write(str(i[0])+\"\\t\"+str(i[1])+\"\\n\")\n",
    "    save_file.close()"
   ]
  },
  {
   "cell_type": "code",
   "execution_count": null,
   "metadata": {},
   "outputs": [],
   "source": []
  }
 ],
 "metadata": {
  "kernelspec": {
   "display_name": "Python 3",
   "language": "python",
   "name": "python3"
  },
  "language_info": {
   "codemirror_mode": {
    "name": "ipython",
    "version": 3
   },
   "file_extension": ".py",
   "mimetype": "text/x-python",
   "name": "python",
   "nbconvert_exporter": "python",
   "pygments_lexer": "ipython3",
   "version": "3.8.5"
  }
 },
 "nbformat": 4,
 "nbformat_minor": 4
}
